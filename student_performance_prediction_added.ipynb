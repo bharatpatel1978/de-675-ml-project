{
  "cells": [
    {
      "cell_type": "code",
      "execution_count": 240,
      "metadata": {
        "id": "ecYREYlkxm__"
      },
      "outputs": [],
      "source": [
        "import kagglehub\n",
        "import os\n",
        "import pandas as pd\n",
        "import numpy as np\n",
        "import seaborn as sns\n",
        "import matplotlib.pyplot as plt\n",
        "from sklearn.neighbors import KNeighborsClassifier\n",
        "from sklearn.model_selection import cross_val_score\n",
        "from imblearn.over_sampling import SMOTE\n",
        "from sklearn.metrics import accuracy_score, classification_report, confusion_matrix\n",
        "from sklearn.metrics import mean_squared_error, make_scorer,mean_absolute_error, r2_score\n",
        "from sklearn.model_selection import GridSearchCV\n",
        "from sklearn.ensemble import RandomForestRegressor\n",
        "from sklearn.ensemble import RandomForestClassifier\n",
        "from sklearn.ensemble import GradientBoostingRegressor\n",
        "from sklearn.ensemble import GradientBoostingClassifier\n",
        "from sklearn.linear_model import LinearRegression\n",
        "from sklearn.model_selection import train_test_split\n",
        "from sklearn.preprocessing import LabelEncoder\n",
        "from sklearn.preprocessing import StandardScaler\n",
        "from sklearn.preprocessing import OneHotEncoder\n",
        "from sklearn.linear_model import SGDRegressor"
      ]
    },
    {
      "cell_type": "markdown",
      "source": [
        "# I. Data Preprocessing"
      ],
      "metadata": {
        "id": "R_sqm-7w9QEg"
      }
    },
    {
      "cell_type": "code",
      "execution_count": 241,
      "metadata": {
        "colab": {
          "base_uri": "https://localhost:8080/"
        },
        "id": "FYTQXFZgxILd",
        "outputId": "375b70f7-e09f-4103-90d4-d1964c1caf5a"
      },
      "outputs": [
        {
          "output_type": "stream",
          "name": "stdout",
          "text": [
            "Path to dataset files: /root/.cache/kagglehub/datasets/lainguyn123/student-performance-factors/versions/8\n"
          ]
        },
        {
          "output_type": "execute_result",
          "data": {
            "text/plain": [
              "(6607, 20)"
            ]
          },
          "metadata": {},
          "execution_count": 241
        }
      ],
      "source": [
        "path = kagglehub.dataset_download(\"lainguyn123/student-performance-factors\")\n",
        "print(\"Path to dataset files:\", path)\n",
        "\n",
        "csv_file_path = os.path.join(path, \"StudentPerformanceFactors.csv\")\n",
        "\n",
        "df = pd.read_csv(csv_file_path)\n",
        "\n",
        "df.shape\n"
      ]
    },
    {
      "cell_type": "code",
      "execution_count": 242,
      "metadata": {
        "colab": {
          "base_uri": "https://localhost:8080/",
          "height": 300
        },
        "id": "Jyi7W4KTyYuu",
        "outputId": "a1116225-a0a8-4515-8c08-da827cc4745a"
      },
      "outputs": [
        {
          "output_type": "execute_result",
          "data": {
            "text/plain": [
              "       Hours_Studied   Attendance  Sleep_Hours  Previous_Scores  \\\n",
              "count    6607.000000  6607.000000   6607.00000      6607.000000   \n",
              "mean       19.975329    79.977448      7.02906        75.070531   \n",
              "std         5.990594    11.547475      1.46812        14.399784   \n",
              "min         1.000000    60.000000      4.00000        50.000000   \n",
              "25%        16.000000    70.000000      6.00000        63.000000   \n",
              "50%        20.000000    80.000000      7.00000        75.000000   \n",
              "75%        24.000000    90.000000      8.00000        88.000000   \n",
              "max        44.000000   100.000000     10.00000       100.000000   \n",
              "\n",
              "       Tutoring_Sessions  Physical_Activity   Exam_Score  \n",
              "count        6607.000000        6607.000000  6607.000000  \n",
              "mean            1.493719           2.967610    67.235659  \n",
              "std             1.230570           1.031231     3.890456  \n",
              "min             0.000000           0.000000    55.000000  \n",
              "25%             1.000000           2.000000    65.000000  \n",
              "50%             1.000000           3.000000    67.000000  \n",
              "75%             2.000000           4.000000    69.000000  \n",
              "max             8.000000           6.000000   101.000000  "
            ],
            "text/html": [
              "\n",
              "  <div id=\"df-d85643e9-8783-427a-8b7c-982a311472d6\" class=\"colab-df-container\">\n",
              "    <div>\n",
              "<style scoped>\n",
              "    .dataframe tbody tr th:only-of-type {\n",
              "        vertical-align: middle;\n",
              "    }\n",
              "\n",
              "    .dataframe tbody tr th {\n",
              "        vertical-align: top;\n",
              "    }\n",
              "\n",
              "    .dataframe thead th {\n",
              "        text-align: right;\n",
              "    }\n",
              "</style>\n",
              "<table border=\"1\" class=\"dataframe\">\n",
              "  <thead>\n",
              "    <tr style=\"text-align: right;\">\n",
              "      <th></th>\n",
              "      <th>Hours_Studied</th>\n",
              "      <th>Attendance</th>\n",
              "      <th>Sleep_Hours</th>\n",
              "      <th>Previous_Scores</th>\n",
              "      <th>Tutoring_Sessions</th>\n",
              "      <th>Physical_Activity</th>\n",
              "      <th>Exam_Score</th>\n",
              "    </tr>\n",
              "  </thead>\n",
              "  <tbody>\n",
              "    <tr>\n",
              "      <th>count</th>\n",
              "      <td>6607.000000</td>\n",
              "      <td>6607.000000</td>\n",
              "      <td>6607.00000</td>\n",
              "      <td>6607.000000</td>\n",
              "      <td>6607.000000</td>\n",
              "      <td>6607.000000</td>\n",
              "      <td>6607.000000</td>\n",
              "    </tr>\n",
              "    <tr>\n",
              "      <th>mean</th>\n",
              "      <td>19.975329</td>\n",
              "      <td>79.977448</td>\n",
              "      <td>7.02906</td>\n",
              "      <td>75.070531</td>\n",
              "      <td>1.493719</td>\n",
              "      <td>2.967610</td>\n",
              "      <td>67.235659</td>\n",
              "    </tr>\n",
              "    <tr>\n",
              "      <th>std</th>\n",
              "      <td>5.990594</td>\n",
              "      <td>11.547475</td>\n",
              "      <td>1.46812</td>\n",
              "      <td>14.399784</td>\n",
              "      <td>1.230570</td>\n",
              "      <td>1.031231</td>\n",
              "      <td>3.890456</td>\n",
              "    </tr>\n",
              "    <tr>\n",
              "      <th>min</th>\n",
              "      <td>1.000000</td>\n",
              "      <td>60.000000</td>\n",
              "      <td>4.00000</td>\n",
              "      <td>50.000000</td>\n",
              "      <td>0.000000</td>\n",
              "      <td>0.000000</td>\n",
              "      <td>55.000000</td>\n",
              "    </tr>\n",
              "    <tr>\n",
              "      <th>25%</th>\n",
              "      <td>16.000000</td>\n",
              "      <td>70.000000</td>\n",
              "      <td>6.00000</td>\n",
              "      <td>63.000000</td>\n",
              "      <td>1.000000</td>\n",
              "      <td>2.000000</td>\n",
              "      <td>65.000000</td>\n",
              "    </tr>\n",
              "    <tr>\n",
              "      <th>50%</th>\n",
              "      <td>20.000000</td>\n",
              "      <td>80.000000</td>\n",
              "      <td>7.00000</td>\n",
              "      <td>75.000000</td>\n",
              "      <td>1.000000</td>\n",
              "      <td>3.000000</td>\n",
              "      <td>67.000000</td>\n",
              "    </tr>\n",
              "    <tr>\n",
              "      <th>75%</th>\n",
              "      <td>24.000000</td>\n",
              "      <td>90.000000</td>\n",
              "      <td>8.00000</td>\n",
              "      <td>88.000000</td>\n",
              "      <td>2.000000</td>\n",
              "      <td>4.000000</td>\n",
              "      <td>69.000000</td>\n",
              "    </tr>\n",
              "    <tr>\n",
              "      <th>max</th>\n",
              "      <td>44.000000</td>\n",
              "      <td>100.000000</td>\n",
              "      <td>10.00000</td>\n",
              "      <td>100.000000</td>\n",
              "      <td>8.000000</td>\n",
              "      <td>6.000000</td>\n",
              "      <td>101.000000</td>\n",
              "    </tr>\n",
              "  </tbody>\n",
              "</table>\n",
              "</div>\n",
              "    <div class=\"colab-df-buttons\">\n",
              "      \n",
              "  <div class=\"colab-df-container\">\n",
              "    <button class=\"colab-df-convert\" onclick=\"convertToInteractive('df-d85643e9-8783-427a-8b7c-982a311472d6')\"\n",
              "            title=\"Convert this dataframe to an interactive table.\"\n",
              "            style=\"display:none;\">\n",
              "      \n",
              "  <svg xmlns=\"http://www.w3.org/2000/svg\" height=\"24px\" viewBox=\"0 -960 960 960\">\n",
              "    <path d=\"M120-120v-720h720v720H120Zm60-500h600v-160H180v160Zm220 220h160v-160H400v160Zm0 220h160v-160H400v160ZM180-400h160v-160H180v160Zm440 0h160v-160H620v160ZM180-180h160v-160H180v160Zm440 0h160v-160H620v160Z\"/>\n",
              "  </svg>\n",
              "    </button>\n",
              "    \n",
              "  <style>\n",
              "    .colab-df-container {\n",
              "      display:flex;\n",
              "      gap: 12px;\n",
              "    }\n",
              "\n",
              "    .colab-df-convert {\n",
              "      background-color: #E8F0FE;\n",
              "      border: none;\n",
              "      border-radius: 50%;\n",
              "      cursor: pointer;\n",
              "      display: none;\n",
              "      fill: #1967D2;\n",
              "      height: 32px;\n",
              "      padding: 0 0 0 0;\n",
              "      width: 32px;\n",
              "    }\n",
              "\n",
              "    .colab-df-convert:hover {\n",
              "      background-color: #E2EBFA;\n",
              "      box-shadow: 0px 1px 2px rgba(60, 64, 67, 0.3), 0px 1px 3px 1px rgba(60, 64, 67, 0.15);\n",
              "      fill: #174EA6;\n",
              "    }\n",
              "\n",
              "    .colab-df-buttons div {\n",
              "      margin-bottom: 4px;\n",
              "    }\n",
              "\n",
              "    [theme=dark] .colab-df-convert {\n",
              "      background-color: #3B4455;\n",
              "      fill: #D2E3FC;\n",
              "    }\n",
              "\n",
              "    [theme=dark] .colab-df-convert:hover {\n",
              "      background-color: #434B5C;\n",
              "      box-shadow: 0px 1px 3px 1px rgba(0, 0, 0, 0.15);\n",
              "      filter: drop-shadow(0px 1px 2px rgba(0, 0, 0, 0.3));\n",
              "      fill: #FFFFFF;\n",
              "    }\n",
              "  </style>\n",
              "\n",
              "    <script>\n",
              "      const buttonEl =\n",
              "        document.querySelector('#df-d85643e9-8783-427a-8b7c-982a311472d6 button.colab-df-convert');\n",
              "      buttonEl.style.display =\n",
              "        google.colab.kernel.accessAllowed ? 'block' : 'none';\n",
              "\n",
              "      async function convertToInteractive(key) {\n",
              "        const element = document.querySelector('#df-d85643e9-8783-427a-8b7c-982a311472d6');\n",
              "        const dataTable =\n",
              "          await google.colab.kernel.invokeFunction('convertToInteractive',\n",
              "                                                    [key], {});\n",
              "        if (!dataTable) return;\n",
              "\n",
              "        const docLinkHtml = 'Like what you see? Visit the ' +\n",
              "          '<a target=\"_blank\" href=https://colab.research.google.com/notebooks/data_table.ipynb>data table notebook</a>'\n",
              "          + ' to learn more about interactive tables.';\n",
              "        element.innerHTML = '';\n",
              "        dataTable['output_type'] = 'display_data';\n",
              "        await google.colab.output.renderOutput(dataTable, element);\n",
              "        const docLink = document.createElement('div');\n",
              "        docLink.innerHTML = docLinkHtml;\n",
              "        element.appendChild(docLink);\n",
              "      }\n",
              "    </script>\n",
              "  </div>\n",
              "  \n",
              "    </div>\n",
              "  </div>\n",
              "  "
            ],
            "application/vnd.google.colaboratory.intrinsic+json": {
              "type": "dataframe",
              "summary": "{\n  \"name\": \"df\",\n  \"rows\": 8,\n  \"fields\": [\n    {\n      \"column\": \"Hours_Studied\",\n      \"properties\": {\n        \"dtype\": \"number\",\n        \"std\": 2329.3478487293605,\n        \"min\": 1.0,\n        \"max\": 6607.0,\n        \"num_unique_values\": 8,\n        \"samples\": [\n          19.975329196306948,\n          20.0,\n          6607.0\n        ],\n        \"semantic_type\": \"\",\n        \"description\": \"\"\n      }\n    },\n    {\n      \"column\": \"Attendance\",\n      \"properties\": {\n        \"dtype\": \"number\",\n        \"std\": 2311.256514349728,\n        \"min\": 11.547474961482802,\n        \"max\": 6607.0,\n        \"num_unique_values\": 8,\n        \"samples\": [\n          79.97744816104132,\n          80.0,\n          6607.0\n        ],\n        \"semantic_type\": \"\",\n        \"description\": \"\"\n      }\n    },\n    {\n      \"column\": \"Sleep_Hours\",\n      \"properties\": {\n        \"dtype\": \"number\",\n        \"std\": 2333.731728672565,\n        \"min\": 1.4681202267434736,\n        \"max\": 6607.0,\n        \"num_unique_values\": 8,\n        \"samples\": [\n          7.029060087785682,\n          7.0,\n          6607.0\n        ],\n        \"semantic_type\": \"\",\n        \"description\": \"\"\n      }\n    },\n    {\n      \"column\": \"Previous_Scores\",\n      \"properties\": {\n        \"dtype\": \"number\",\n        \"std\": 2312.5635247741884,\n        \"min\": 14.399784350758976,\n        \"max\": 6607.0,\n        \"num_unique_values\": 8,\n        \"samples\": [\n          75.07053125472983,\n          75.0,\n          6607.0\n        ],\n        \"semantic_type\": \"\",\n        \"description\": \"\"\n      }\n    },\n    {\n      \"column\": \"Tutoring_Sessions\",\n      \"properties\": {\n        \"dtype\": \"number\",\n        \"std\": 2335.1848710914082,\n        \"min\": 0.0,\n        \"max\": 6607.0,\n        \"num_unique_values\": 7,\n        \"samples\": [\n          6607.0,\n          1.4937187831088239,\n          2.0\n        ],\n        \"semantic_type\": \"\",\n        \"description\": \"\"\n      }\n    },\n    {\n      \"column\": \"Physical_Activity\",\n      \"properties\": {\n        \"dtype\": \"number\",\n        \"std\": 2334.968378179707,\n        \"min\": 0.0,\n        \"max\": 6607.0,\n        \"num_unique_values\": 8,\n        \"samples\": [\n          2.9676101104888755,\n          3.0,\n          6607.0\n        ],\n        \"semantic_type\": \"\",\n        \"description\": \"\"\n      }\n    },\n    {\n      \"column\": \"Exam_Score\",\n      \"properties\": {\n        \"dtype\": \"number\",\n        \"std\": 2314.459543141923,\n        \"min\": 3.890455781261724,\n        \"max\": 6607.0,\n        \"num_unique_values\": 8,\n        \"samples\": [\n          67.23565914938702,\n          67.0,\n          6607.0\n        ],\n        \"semantic_type\": \"\",\n        \"description\": \"\"\n      }\n    }\n  ]\n}"
            }
          },
          "metadata": {},
          "execution_count": 242
        }
      ],
      "source": [
        "df.describe()"
      ]
    },
    {
      "cell_type": "code",
      "execution_count": 243,
      "metadata": {
        "colab": {
          "base_uri": "https://localhost:8080/"
        },
        "id": "I2tAGu0KyZf5",
        "outputId": "9dd71dbb-a433-4c8f-db21-dc0fe91e494b"
      },
      "outputs": [
        {
          "output_type": "stream",
          "name": "stdout",
          "text": [
            "Numerical Columns: ['Hours_Studied', 'Attendance', 'Sleep_Hours', 'Previous_Scores', 'Tutoring_Sessions', 'Physical_Activity', 'Exam_Score']\n",
            "Categorical Columns: ['Parental_Involvement', 'Access_to_Resources', 'Extracurricular_Activities', 'Motivation_Level', 'Internet_Access', 'Family_Income', 'Teacher_Quality', 'School_Type', 'Peer_Influence', 'Learning_Disabilities', 'Parental_Education_Level', 'Distance_from_Home', 'Gender']\n",
            "<class 'pandas.core.frame.DataFrame'>\n",
            "RangeIndex: 6607 entries, 0 to 6606\n",
            "Data columns (total 20 columns):\n",
            " #   Column                      Non-Null Count  Dtype \n",
            "---  ------                      --------------  ----- \n",
            " 0   Hours_Studied               6607 non-null   int64 \n",
            " 1   Attendance                  6607 non-null   int64 \n",
            " 2   Parental_Involvement        6607 non-null   object\n",
            " 3   Access_to_Resources         6607 non-null   object\n",
            " 4   Extracurricular_Activities  6607 non-null   object\n",
            " 5   Sleep_Hours                 6607 non-null   int64 \n",
            " 6   Previous_Scores             6607 non-null   int64 \n",
            " 7   Motivation_Level            6607 non-null   object\n",
            " 8   Internet_Access             6607 non-null   object\n",
            " 9   Tutoring_Sessions           6607 non-null   int64 \n",
            " 10  Family_Income               6607 non-null   object\n",
            " 11  Teacher_Quality             6529 non-null   object\n",
            " 12  School_Type                 6607 non-null   object\n",
            " 13  Peer_Influence              6607 non-null   object\n",
            " 14  Physical_Activity           6607 non-null   int64 \n",
            " 15  Learning_Disabilities       6607 non-null   object\n",
            " 16  Parental_Education_Level    6517 non-null   object\n",
            " 17  Distance_from_Home          6540 non-null   object\n",
            " 18  Gender                      6607 non-null   object\n",
            " 19  Exam_Score                  6607 non-null   int64 \n",
            "dtypes: int64(7), object(13)\n",
            "memory usage: 1.0+ MB\n"
          ]
        }
      ],
      "source": [
        "# check the type of features\n",
        "# sort categorical and numerical data\n",
        "numerical_columns = df.select_dtypes(include=['int64', 'float64']).columns.tolist()\n",
        "categorical_columns = df.select_dtypes(include=['object']).columns.tolist()\n",
        "\n",
        "print(\"Numerical Columns:\", numerical_columns)\n",
        "print(\"Categorical Columns:\", categorical_columns)\n",
        "df.info()"
      ]
    },
    {
      "cell_type": "code",
      "execution_count": 244,
      "metadata": {
        "colab": {
          "base_uri": "https://localhost:8080/",
          "height": 711
        },
        "id": "9OdBtu6Bym44",
        "outputId": "3c613f20-384f-4a50-cbdf-95050b6b62df"
      },
      "outputs": [
        {
          "output_type": "execute_result",
          "data": {
            "text/plain": [
              "Hours_Studied                  0\n",
              "Attendance                     0\n",
              "Parental_Involvement           0\n",
              "Access_to_Resources            0\n",
              "Extracurricular_Activities     0\n",
              "Sleep_Hours                    0\n",
              "Previous_Scores                0\n",
              "Motivation_Level               0\n",
              "Internet_Access                0\n",
              "Tutoring_Sessions              0\n",
              "Family_Income                  0\n",
              "Teacher_Quality               78\n",
              "School_Type                    0\n",
              "Peer_Influence                 0\n",
              "Physical_Activity              0\n",
              "Learning_Disabilities          0\n",
              "Parental_Education_Level      90\n",
              "Distance_from_Home            67\n",
              "Gender                         0\n",
              "Exam_Score                     0\n",
              "dtype: int64"
            ],
            "text/html": [
              "<div>\n",
              "<style scoped>\n",
              "    .dataframe tbody tr th:only-of-type {\n",
              "        vertical-align: middle;\n",
              "    }\n",
              "\n",
              "    .dataframe tbody tr th {\n",
              "        vertical-align: top;\n",
              "    }\n",
              "\n",
              "    .dataframe thead th {\n",
              "        text-align: right;\n",
              "    }\n",
              "</style>\n",
              "<table border=\"1\" class=\"dataframe\">\n",
              "  <thead>\n",
              "    <tr style=\"text-align: right;\">\n",
              "      <th></th>\n",
              "      <th>0</th>\n",
              "    </tr>\n",
              "  </thead>\n",
              "  <tbody>\n",
              "    <tr>\n",
              "      <th>Hours_Studied</th>\n",
              "      <td>0</td>\n",
              "    </tr>\n",
              "    <tr>\n",
              "      <th>Attendance</th>\n",
              "      <td>0</td>\n",
              "    </tr>\n",
              "    <tr>\n",
              "      <th>Parental_Involvement</th>\n",
              "      <td>0</td>\n",
              "    </tr>\n",
              "    <tr>\n",
              "      <th>Access_to_Resources</th>\n",
              "      <td>0</td>\n",
              "    </tr>\n",
              "    <tr>\n",
              "      <th>Extracurricular_Activities</th>\n",
              "      <td>0</td>\n",
              "    </tr>\n",
              "    <tr>\n",
              "      <th>Sleep_Hours</th>\n",
              "      <td>0</td>\n",
              "    </tr>\n",
              "    <tr>\n",
              "      <th>Previous_Scores</th>\n",
              "      <td>0</td>\n",
              "    </tr>\n",
              "    <tr>\n",
              "      <th>Motivation_Level</th>\n",
              "      <td>0</td>\n",
              "    </tr>\n",
              "    <tr>\n",
              "      <th>Internet_Access</th>\n",
              "      <td>0</td>\n",
              "    </tr>\n",
              "    <tr>\n",
              "      <th>Tutoring_Sessions</th>\n",
              "      <td>0</td>\n",
              "    </tr>\n",
              "    <tr>\n",
              "      <th>Family_Income</th>\n",
              "      <td>0</td>\n",
              "    </tr>\n",
              "    <tr>\n",
              "      <th>Teacher_Quality</th>\n",
              "      <td>78</td>\n",
              "    </tr>\n",
              "    <tr>\n",
              "      <th>School_Type</th>\n",
              "      <td>0</td>\n",
              "    </tr>\n",
              "    <tr>\n",
              "      <th>Peer_Influence</th>\n",
              "      <td>0</td>\n",
              "    </tr>\n",
              "    <tr>\n",
              "      <th>Physical_Activity</th>\n",
              "      <td>0</td>\n",
              "    </tr>\n",
              "    <tr>\n",
              "      <th>Learning_Disabilities</th>\n",
              "      <td>0</td>\n",
              "    </tr>\n",
              "    <tr>\n",
              "      <th>Parental_Education_Level</th>\n",
              "      <td>90</td>\n",
              "    </tr>\n",
              "    <tr>\n",
              "      <th>Distance_from_Home</th>\n",
              "      <td>67</td>\n",
              "    </tr>\n",
              "    <tr>\n",
              "      <th>Gender</th>\n",
              "      <td>0</td>\n",
              "    </tr>\n",
              "    <tr>\n",
              "      <th>Exam_Score</th>\n",
              "      <td>0</td>\n",
              "    </tr>\n",
              "  </tbody>\n",
              "</table>\n",
              "</div><br><label><b>dtype:</b> int64</label>"
            ]
          },
          "metadata": {},
          "execution_count": 244
        }
      ],
      "source": [
        "# handle missing data\n",
        "df.isnull().sum()"
      ]
    },
    {
      "cell_type": "code",
      "execution_count": 245,
      "metadata": {
        "colab": {
          "base_uri": "https://localhost:8080/",
          "height": 728
        },
        "id": "8idHeFDhzSD5",
        "outputId": "6b756937-f49c-48b8-c830-bf3ddc098555"
      },
      "outputs": [
        {
          "output_type": "stream",
          "name": "stdout",
          "text": [
            "(6378, 20)\n"
          ]
        },
        {
          "output_type": "execute_result",
          "data": {
            "text/plain": [
              "Hours_Studied                 0\n",
              "Attendance                    0\n",
              "Parental_Involvement          0\n",
              "Access_to_Resources           0\n",
              "Extracurricular_Activities    0\n",
              "Sleep_Hours                   0\n",
              "Previous_Scores               0\n",
              "Motivation_Level              0\n",
              "Internet_Access               0\n",
              "Tutoring_Sessions             0\n",
              "Family_Income                 0\n",
              "Teacher_Quality               0\n",
              "School_Type                   0\n",
              "Peer_Influence                0\n",
              "Physical_Activity             0\n",
              "Learning_Disabilities         0\n",
              "Parental_Education_Level      0\n",
              "Distance_from_Home            0\n",
              "Gender                        0\n",
              "Exam_Score                    0\n",
              "dtype: int64"
            ],
            "text/html": [
              "<div>\n",
              "<style scoped>\n",
              "    .dataframe tbody tr th:only-of-type {\n",
              "        vertical-align: middle;\n",
              "    }\n",
              "\n",
              "    .dataframe tbody tr th {\n",
              "        vertical-align: top;\n",
              "    }\n",
              "\n",
              "    .dataframe thead th {\n",
              "        text-align: right;\n",
              "    }\n",
              "</style>\n",
              "<table border=\"1\" class=\"dataframe\">\n",
              "  <thead>\n",
              "    <tr style=\"text-align: right;\">\n",
              "      <th></th>\n",
              "      <th>0</th>\n",
              "    </tr>\n",
              "  </thead>\n",
              "  <tbody>\n",
              "    <tr>\n",
              "      <th>Hours_Studied</th>\n",
              "      <td>0</td>\n",
              "    </tr>\n",
              "    <tr>\n",
              "      <th>Attendance</th>\n",
              "      <td>0</td>\n",
              "    </tr>\n",
              "    <tr>\n",
              "      <th>Parental_Involvement</th>\n",
              "      <td>0</td>\n",
              "    </tr>\n",
              "    <tr>\n",
              "      <th>Access_to_Resources</th>\n",
              "      <td>0</td>\n",
              "    </tr>\n",
              "    <tr>\n",
              "      <th>Extracurricular_Activities</th>\n",
              "      <td>0</td>\n",
              "    </tr>\n",
              "    <tr>\n",
              "      <th>Sleep_Hours</th>\n",
              "      <td>0</td>\n",
              "    </tr>\n",
              "    <tr>\n",
              "      <th>Previous_Scores</th>\n",
              "      <td>0</td>\n",
              "    </tr>\n",
              "    <tr>\n",
              "      <th>Motivation_Level</th>\n",
              "      <td>0</td>\n",
              "    </tr>\n",
              "    <tr>\n",
              "      <th>Internet_Access</th>\n",
              "      <td>0</td>\n",
              "    </tr>\n",
              "    <tr>\n",
              "      <th>Tutoring_Sessions</th>\n",
              "      <td>0</td>\n",
              "    </tr>\n",
              "    <tr>\n",
              "      <th>Family_Income</th>\n",
              "      <td>0</td>\n",
              "    </tr>\n",
              "    <tr>\n",
              "      <th>Teacher_Quality</th>\n",
              "      <td>0</td>\n",
              "    </tr>\n",
              "    <tr>\n",
              "      <th>School_Type</th>\n",
              "      <td>0</td>\n",
              "    </tr>\n",
              "    <tr>\n",
              "      <th>Peer_Influence</th>\n",
              "      <td>0</td>\n",
              "    </tr>\n",
              "    <tr>\n",
              "      <th>Physical_Activity</th>\n",
              "      <td>0</td>\n",
              "    </tr>\n",
              "    <tr>\n",
              "      <th>Learning_Disabilities</th>\n",
              "      <td>0</td>\n",
              "    </tr>\n",
              "    <tr>\n",
              "      <th>Parental_Education_Level</th>\n",
              "      <td>0</td>\n",
              "    </tr>\n",
              "    <tr>\n",
              "      <th>Distance_from_Home</th>\n",
              "      <td>0</td>\n",
              "    </tr>\n",
              "    <tr>\n",
              "      <th>Gender</th>\n",
              "      <td>0</td>\n",
              "    </tr>\n",
              "    <tr>\n",
              "      <th>Exam_Score</th>\n",
              "      <td>0</td>\n",
              "    </tr>\n",
              "  </tbody>\n",
              "</table>\n",
              "</div><br><label><b>dtype:</b> int64</label>"
            ]
          },
          "metadata": {},
          "execution_count": 245
        }
      ],
      "source": [
        "# drop null value\n",
        "df = df.dropna()\n",
        "print(df.shape)\n",
        "df.isnull().sum()"
      ]
    },
    {
      "cell_type": "code",
      "execution_count": 246,
      "metadata": {
        "id": "GSwOxbtu4vtk"
      },
      "outputs": [],
      "source": [
        "dfColumns = ['Parental_Involvement',\n",
        "          'School_Type',\n",
        "          'Access_to_Resources',\n",
        "          'Extracurricular_Activities',\n",
        "          'Motivation_Level',\n",
        "          'Internet_Access',\n",
        "          'Family_Income',\n",
        "          'Teacher_Quality',\n",
        "          'Peer_Influence',\n",
        "          'Learning_Disabilities',\n",
        "          'Parental_Education_Level',\n",
        "          'Distance_from_Home',\n",
        "          'Gender'\n",
        "         ]\n",
        "df = pd.get_dummies(df, columns=dfColumns)"
      ]
    },
    {
      "cell_type": "markdown",
      "source": [
        "# II. Binary Classification by KNN"
      ],
      "metadata": {
        "id": "bTT-uuuU9v8J"
      }
    },
    {
      "cell_type": "code",
      "execution_count": 247,
      "metadata": {
        "colab": {
          "base_uri": "https://localhost:8080/",
          "height": 460
        },
        "id": "4fXmrbGc4vtk",
        "outputId": "d3ce0e3f-b8b4-4d21-d3f0-48dd9af95043"
      },
      "outputs": [
        {
          "output_type": "execute_result",
          "data": {
            "text/plain": [
              "      Hours_Studied  Attendance  Sleep_Hours  Previous_Scores  \\\n",
              "0                23          84            7               73   \n",
              "1                19          64            8               59   \n",
              "2                24          98            7               91   \n",
              "3                29          89            8               98   \n",
              "4                19          92            6               65   \n",
              "...             ...         ...          ...              ...   \n",
              "6602             25          69            7               76   \n",
              "6603             23          76            8               81   \n",
              "6604             20          90            6               65   \n",
              "6605             10          86            6               91   \n",
              "6606             15          67            9               94   \n",
              "\n",
              "      Tutoring_Sessions  Physical_Activity  Exam_Score  \\\n",
              "0                     0                  3          67   \n",
              "1                     2                  4          61   \n",
              "2                     2                  4          74   \n",
              "3                     1                  4          71   \n",
              "4                     3                  4          70   \n",
              "...                 ...                ...         ...   \n",
              "6602                  1                  2          68   \n",
              "6603                  3                  2          69   \n",
              "6604                  3                  2          68   \n",
              "6605                  2                  3          68   \n",
              "6606                  0                  4          64   \n",
              "\n",
              "      Parental_Involvement_High  Parental_Involvement_Low  \\\n",
              "0                         False                      True   \n",
              "1                         False                      True   \n",
              "2                         False                     False   \n",
              "3                         False                      True   \n",
              "4                         False                     False   \n",
              "...                         ...                       ...   \n",
              "6602                       True                     False   \n",
              "6603                       True                     False   \n",
              "6604                      False                     False   \n",
              "6605                       True                     False   \n",
              "6606                      False                     False   \n",
              "\n",
              "      Parental_Involvement_Medium  ...  Learning_Disabilities_Yes  \\\n",
              "0                           False  ...                      False   \n",
              "1                           False  ...                      False   \n",
              "2                            True  ...                      False   \n",
              "3                           False  ...                      False   \n",
              "4                            True  ...                      False   \n",
              "...                           ...  ...                        ...   \n",
              "6602                        False  ...                      False   \n",
              "6603                        False  ...                      False   \n",
              "6604                         True  ...                      False   \n",
              "6605                        False  ...                      False   \n",
              "6606                         True  ...                      False   \n",
              "\n",
              "      Parental_Education_Level_College  Parental_Education_Level_High School  \\\n",
              "0                                False                                  True   \n",
              "1                                 True                                 False   \n",
              "2                                False                                 False   \n",
              "3                                False                                  True   \n",
              "4                                 True                                 False   \n",
              "...                                ...                                   ...   \n",
              "6602                             False                                  True   \n",
              "6603                             False                                  True   \n",
              "6604                             False                                 False   \n",
              "6605                             False                                  True   \n",
              "6606                             False                                 False   \n",
              "\n",
              "      Parental_Education_Level_Postgraduate  Distance_from_Home_Far  \\\n",
              "0                                     False                   False   \n",
              "1                                     False                   False   \n",
              "2                                      True                   False   \n",
              "3                                     False                   False   \n",
              "4                                     False                   False   \n",
              "...                                     ...                     ...   \n",
              "6602                                  False                   False   \n",
              "6603                                  False                   False   \n",
              "6604                                   True                   False   \n",
              "6605                                  False                    True   \n",
              "6606                                   True                   False   \n",
              "\n",
              "      Distance_from_Home_Moderate  Distance_from_Home_Near  Gender_Female  \\\n",
              "0                           False                     True          False   \n",
              "1                            True                    False           True   \n",
              "2                           False                     True          False   \n",
              "3                            True                    False          False   \n",
              "4                           False                     True           True   \n",
              "...                           ...                      ...            ...   \n",
              "6602                        False                     True           True   \n",
              "6603                        False                     True           True   \n",
              "6604                        False                     True           True   \n",
              "6605                        False                    False           True   \n",
              "6606                        False                     True          False   \n",
              "\n",
              "      Gender_Male  PassFail  \n",
              "0            True         1  \n",
              "1           False         1  \n",
              "2            True         1  \n",
              "3            True         1  \n",
              "4           False         1  \n",
              "...           ...       ...  \n",
              "6602        False         1  \n",
              "6603        False         1  \n",
              "6604        False         1  \n",
              "6605        False         1  \n",
              "6606         True         1  \n",
              "\n",
              "[6378 rows x 42 columns]"
            ],
            "text/html": [
              "\n",
              "  <div id=\"df-e732a7f0-3813-4960-9aa2-8605130ac6c3\" class=\"colab-df-container\">\n",
              "    <div>\n",
              "<style scoped>\n",
              "    .dataframe tbody tr th:only-of-type {\n",
              "        vertical-align: middle;\n",
              "    }\n",
              "\n",
              "    .dataframe tbody tr th {\n",
              "        vertical-align: top;\n",
              "    }\n",
              "\n",
              "    .dataframe thead th {\n",
              "        text-align: right;\n",
              "    }\n",
              "</style>\n",
              "<table border=\"1\" class=\"dataframe\">\n",
              "  <thead>\n",
              "    <tr style=\"text-align: right;\">\n",
              "      <th></th>\n",
              "      <th>Hours_Studied</th>\n",
              "      <th>Attendance</th>\n",
              "      <th>Sleep_Hours</th>\n",
              "      <th>Previous_Scores</th>\n",
              "      <th>Tutoring_Sessions</th>\n",
              "      <th>Physical_Activity</th>\n",
              "      <th>Exam_Score</th>\n",
              "      <th>Parental_Involvement_High</th>\n",
              "      <th>Parental_Involvement_Low</th>\n",
              "      <th>Parental_Involvement_Medium</th>\n",
              "      <th>...</th>\n",
              "      <th>Learning_Disabilities_Yes</th>\n",
              "      <th>Parental_Education_Level_College</th>\n",
              "      <th>Parental_Education_Level_High School</th>\n",
              "      <th>Parental_Education_Level_Postgraduate</th>\n",
              "      <th>Distance_from_Home_Far</th>\n",
              "      <th>Distance_from_Home_Moderate</th>\n",
              "      <th>Distance_from_Home_Near</th>\n",
              "      <th>Gender_Female</th>\n",
              "      <th>Gender_Male</th>\n",
              "      <th>PassFail</th>\n",
              "    </tr>\n",
              "  </thead>\n",
              "  <tbody>\n",
              "    <tr>\n",
              "      <th>0</th>\n",
              "      <td>23</td>\n",
              "      <td>84</td>\n",
              "      <td>7</td>\n",
              "      <td>73</td>\n",
              "      <td>0</td>\n",
              "      <td>3</td>\n",
              "      <td>67</td>\n",
              "      <td>False</td>\n",
              "      <td>True</td>\n",
              "      <td>False</td>\n",
              "      <td>...</td>\n",
              "      <td>False</td>\n",
              "      <td>False</td>\n",
              "      <td>True</td>\n",
              "      <td>False</td>\n",
              "      <td>False</td>\n",
              "      <td>False</td>\n",
              "      <td>True</td>\n",
              "      <td>False</td>\n",
              "      <td>True</td>\n",
              "      <td>1</td>\n",
              "    </tr>\n",
              "    <tr>\n",
              "      <th>1</th>\n",
              "      <td>19</td>\n",
              "      <td>64</td>\n",
              "      <td>8</td>\n",
              "      <td>59</td>\n",
              "      <td>2</td>\n",
              "      <td>4</td>\n",
              "      <td>61</td>\n",
              "      <td>False</td>\n",
              "      <td>True</td>\n",
              "      <td>False</td>\n",
              "      <td>...</td>\n",
              "      <td>False</td>\n",
              "      <td>True</td>\n",
              "      <td>False</td>\n",
              "      <td>False</td>\n",
              "      <td>False</td>\n",
              "      <td>True</td>\n",
              "      <td>False</td>\n",
              "      <td>True</td>\n",
              "      <td>False</td>\n",
              "      <td>1</td>\n",
              "    </tr>\n",
              "    <tr>\n",
              "      <th>2</th>\n",
              "      <td>24</td>\n",
              "      <td>98</td>\n",
              "      <td>7</td>\n",
              "      <td>91</td>\n",
              "      <td>2</td>\n",
              "      <td>4</td>\n",
              "      <td>74</td>\n",
              "      <td>False</td>\n",
              "      <td>False</td>\n",
              "      <td>True</td>\n",
              "      <td>...</td>\n",
              "      <td>False</td>\n",
              "      <td>False</td>\n",
              "      <td>False</td>\n",
              "      <td>True</td>\n",
              "      <td>False</td>\n",
              "      <td>False</td>\n",
              "      <td>True</td>\n",
              "      <td>False</td>\n",
              "      <td>True</td>\n",
              "      <td>1</td>\n",
              "    </tr>\n",
              "    <tr>\n",
              "      <th>3</th>\n",
              "      <td>29</td>\n",
              "      <td>89</td>\n",
              "      <td>8</td>\n",
              "      <td>98</td>\n",
              "      <td>1</td>\n",
              "      <td>4</td>\n",
              "      <td>71</td>\n",
              "      <td>False</td>\n",
              "      <td>True</td>\n",
              "      <td>False</td>\n",
              "      <td>...</td>\n",
              "      <td>False</td>\n",
              "      <td>False</td>\n",
              "      <td>True</td>\n",
              "      <td>False</td>\n",
              "      <td>False</td>\n",
              "      <td>True</td>\n",
              "      <td>False</td>\n",
              "      <td>False</td>\n",
              "      <td>True</td>\n",
              "      <td>1</td>\n",
              "    </tr>\n",
              "    <tr>\n",
              "      <th>4</th>\n",
              "      <td>19</td>\n",
              "      <td>92</td>\n",
              "      <td>6</td>\n",
              "      <td>65</td>\n",
              "      <td>3</td>\n",
              "      <td>4</td>\n",
              "      <td>70</td>\n",
              "      <td>False</td>\n",
              "      <td>False</td>\n",
              "      <td>True</td>\n",
              "      <td>...</td>\n",
              "      <td>False</td>\n",
              "      <td>True</td>\n",
              "      <td>False</td>\n",
              "      <td>False</td>\n",
              "      <td>False</td>\n",
              "      <td>False</td>\n",
              "      <td>True</td>\n",
              "      <td>True</td>\n",
              "      <td>False</td>\n",
              "      <td>1</td>\n",
              "    </tr>\n",
              "    <tr>\n",
              "      <th>...</th>\n",
              "      <td>...</td>\n",
              "      <td>...</td>\n",
              "      <td>...</td>\n",
              "      <td>...</td>\n",
              "      <td>...</td>\n",
              "      <td>...</td>\n",
              "      <td>...</td>\n",
              "      <td>...</td>\n",
              "      <td>...</td>\n",
              "      <td>...</td>\n",
              "      <td>...</td>\n",
              "      <td>...</td>\n",
              "      <td>...</td>\n",
              "      <td>...</td>\n",
              "      <td>...</td>\n",
              "      <td>...</td>\n",
              "      <td>...</td>\n",
              "      <td>...</td>\n",
              "      <td>...</td>\n",
              "      <td>...</td>\n",
              "      <td>...</td>\n",
              "    </tr>\n",
              "    <tr>\n",
              "      <th>6602</th>\n",
              "      <td>25</td>\n",
              "      <td>69</td>\n",
              "      <td>7</td>\n",
              "      <td>76</td>\n",
              "      <td>1</td>\n",
              "      <td>2</td>\n",
              "      <td>68</td>\n",
              "      <td>True</td>\n",
              "      <td>False</td>\n",
              "      <td>False</td>\n",
              "      <td>...</td>\n",
              "      <td>False</td>\n",
              "      <td>False</td>\n",
              "      <td>True</td>\n",
              "      <td>False</td>\n",
              "      <td>False</td>\n",
              "      <td>False</td>\n",
              "      <td>True</td>\n",
              "      <td>True</td>\n",
              "      <td>False</td>\n",
              "      <td>1</td>\n",
              "    </tr>\n",
              "    <tr>\n",
              "      <th>6603</th>\n",
              "      <td>23</td>\n",
              "      <td>76</td>\n",
              "      <td>8</td>\n",
              "      <td>81</td>\n",
              "      <td>3</td>\n",
              "      <td>2</td>\n",
              "      <td>69</td>\n",
              "      <td>True</td>\n",
              "      <td>False</td>\n",
              "      <td>False</td>\n",
              "      <td>...</td>\n",
              "      <td>False</td>\n",
              "      <td>False</td>\n",
              "      <td>True</td>\n",
              "      <td>False</td>\n",
              "      <td>False</td>\n",
              "      <td>False</td>\n",
              "      <td>True</td>\n",
              "      <td>True</td>\n",
              "      <td>False</td>\n",
              "      <td>1</td>\n",
              "    </tr>\n",
              "    <tr>\n",
              "      <th>6604</th>\n",
              "      <td>20</td>\n",
              "      <td>90</td>\n",
              "      <td>6</td>\n",
              "      <td>65</td>\n",
              "      <td>3</td>\n",
              "      <td>2</td>\n",
              "      <td>68</td>\n",
              "      <td>False</td>\n",
              "      <td>False</td>\n",
              "      <td>True</td>\n",
              "      <td>...</td>\n",
              "      <td>False</td>\n",
              "      <td>False</td>\n",
              "      <td>False</td>\n",
              "      <td>True</td>\n",
              "      <td>False</td>\n",
              "      <td>False</td>\n",
              "      <td>True</td>\n",
              "      <td>True</td>\n",
              "      <td>False</td>\n",
              "      <td>1</td>\n",
              "    </tr>\n",
              "    <tr>\n",
              "      <th>6605</th>\n",
              "      <td>10</td>\n",
              "      <td>86</td>\n",
              "      <td>6</td>\n",
              "      <td>91</td>\n",
              "      <td>2</td>\n",
              "      <td>3</td>\n",
              "      <td>68</td>\n",
              "      <td>True</td>\n",
              "      <td>False</td>\n",
              "      <td>False</td>\n",
              "      <td>...</td>\n",
              "      <td>False</td>\n",
              "      <td>False</td>\n",
              "      <td>True</td>\n",
              "      <td>False</td>\n",
              "      <td>True</td>\n",
              "      <td>False</td>\n",
              "      <td>False</td>\n",
              "      <td>True</td>\n",
              "      <td>False</td>\n",
              "      <td>1</td>\n",
              "    </tr>\n",
              "    <tr>\n",
              "      <th>6606</th>\n",
              "      <td>15</td>\n",
              "      <td>67</td>\n",
              "      <td>9</td>\n",
              "      <td>94</td>\n",
              "      <td>0</td>\n",
              "      <td>4</td>\n",
              "      <td>64</td>\n",
              "      <td>False</td>\n",
              "      <td>False</td>\n",
              "      <td>True</td>\n",
              "      <td>...</td>\n",
              "      <td>False</td>\n",
              "      <td>False</td>\n",
              "      <td>False</td>\n",
              "      <td>True</td>\n",
              "      <td>False</td>\n",
              "      <td>False</td>\n",
              "      <td>True</td>\n",
              "      <td>False</td>\n",
              "      <td>True</td>\n",
              "      <td>1</td>\n",
              "    </tr>\n",
              "  </tbody>\n",
              "</table>\n",
              "<p>6378 rows × 42 columns</p>\n",
              "</div>\n",
              "    <div class=\"colab-df-buttons\">\n",
              "      \n",
              "  <div class=\"colab-df-container\">\n",
              "    <button class=\"colab-df-convert\" onclick=\"convertToInteractive('df-e732a7f0-3813-4960-9aa2-8605130ac6c3')\"\n",
              "            title=\"Convert this dataframe to an interactive table.\"\n",
              "            style=\"display:none;\">\n",
              "      \n",
              "  <svg xmlns=\"http://www.w3.org/2000/svg\" height=\"24px\" viewBox=\"0 -960 960 960\">\n",
              "    <path d=\"M120-120v-720h720v720H120Zm60-500h600v-160H180v160Zm220 220h160v-160H400v160Zm0 220h160v-160H400v160ZM180-400h160v-160H180v160Zm440 0h160v-160H620v160ZM180-180h160v-160H180v160Zm440 0h160v-160H620v160Z\"/>\n",
              "  </svg>\n",
              "    </button>\n",
              "    \n",
              "  <style>\n",
              "    .colab-df-container {\n",
              "      display:flex;\n",
              "      gap: 12px;\n",
              "    }\n",
              "\n",
              "    .colab-df-convert {\n",
              "      background-color: #E8F0FE;\n",
              "      border: none;\n",
              "      border-radius: 50%;\n",
              "      cursor: pointer;\n",
              "      display: none;\n",
              "      fill: #1967D2;\n",
              "      height: 32px;\n",
              "      padding: 0 0 0 0;\n",
              "      width: 32px;\n",
              "    }\n",
              "\n",
              "    .colab-df-convert:hover {\n",
              "      background-color: #E2EBFA;\n",
              "      box-shadow: 0px 1px 2px rgba(60, 64, 67, 0.3), 0px 1px 3px 1px rgba(60, 64, 67, 0.15);\n",
              "      fill: #174EA6;\n",
              "    }\n",
              "\n",
              "    .colab-df-buttons div {\n",
              "      margin-bottom: 4px;\n",
              "    }\n",
              "\n",
              "    [theme=dark] .colab-df-convert {\n",
              "      background-color: #3B4455;\n",
              "      fill: #D2E3FC;\n",
              "    }\n",
              "\n",
              "    [theme=dark] .colab-df-convert:hover {\n",
              "      background-color: #434B5C;\n",
              "      box-shadow: 0px 1px 3px 1px rgba(0, 0, 0, 0.15);\n",
              "      filter: drop-shadow(0px 1px 2px rgba(0, 0, 0, 0.3));\n",
              "      fill: #FFFFFF;\n",
              "    }\n",
              "  </style>\n",
              "\n",
              "    <script>\n",
              "      const buttonEl =\n",
              "        document.querySelector('#df-e732a7f0-3813-4960-9aa2-8605130ac6c3 button.colab-df-convert');\n",
              "      buttonEl.style.display =\n",
              "        google.colab.kernel.accessAllowed ? 'block' : 'none';\n",
              "\n",
              "      async function convertToInteractive(key) {\n",
              "        const element = document.querySelector('#df-e732a7f0-3813-4960-9aa2-8605130ac6c3');\n",
              "        const dataTable =\n",
              "          await google.colab.kernel.invokeFunction('convertToInteractive',\n",
              "                                                    [key], {});\n",
              "        if (!dataTable) return;\n",
              "\n",
              "        const docLinkHtml = 'Like what you see? Visit the ' +\n",
              "          '<a target=\"_blank\" href=https://colab.research.google.com/notebooks/data_table.ipynb>data table notebook</a>'\n",
              "          + ' to learn more about interactive tables.';\n",
              "        element.innerHTML = '';\n",
              "        dataTable['output_type'] = 'display_data';\n",
              "        await google.colab.output.renderOutput(dataTable, element);\n",
              "        const docLink = document.createElement('div');\n",
              "        docLink.innerHTML = docLinkHtml;\n",
              "        element.appendChild(docLink);\n",
              "      }\n",
              "    </script>\n",
              "  </div>\n",
              "  \n",
              "    </div>\n",
              "  </div>\n",
              "  "
            ],
            "application/vnd.google.colaboratory.intrinsic+json": {
              "type": "dataframe",
              "variable_name": "df"
            }
          },
          "metadata": {},
          "execution_count": 247
        }
      ],
      "source": [
        "# Task 1: Transforming the dataset to make it useful for binary classification by introducing the pass/fail value of let's say 60% - kNN Algorith\n",
        "# Transform the dataset\n",
        "threshold = 60  # Pass threshold\n",
        "df.loc[df['Exam_Score'] >= threshold,'PassFail'] = 1\n",
        "df.loc[df['Exam_Score'] < threshold,'PassFail'] = 0\n",
        "df['PassFail'] = df['PassFail'].astype(int)\n",
        "df"
      ]
    },
    {
      "cell_type": "code",
      "execution_count": 248,
      "metadata": {
        "colab": {
          "base_uri": "https://localhost:8080/"
        },
        "id": "jqQlq-1v4vtk",
        "outputId": "c468f97b-b5ad-489d-ccbd-22cd8b2b3592"
      },
      "outputs": [
        {
          "output_type": "stream",
          "name": "stdout",
          "text": [
            "['Hours_Studied', 'Attendance', 'Sleep_Hours', 'Previous_Scores', 'Tutoring_Sessions', 'Physical_Activity', 'Exam_Score', 'Parental_Involvement_High', 'Parental_Involvement_Low', 'Parental_Involvement_Medium', 'School_Type_Private', 'School_Type_Public', 'Access_to_Resources_High', 'Access_to_Resources_Low', 'Access_to_Resources_Medium', 'Extracurricular_Activities_No', 'Extracurricular_Activities_Yes', 'Motivation_Level_High', 'Motivation_Level_Low', 'Motivation_Level_Medium', 'Internet_Access_No', 'Internet_Access_Yes', 'Family_Income_High', 'Family_Income_Low', 'Family_Income_Medium', 'Teacher_Quality_High', 'Teacher_Quality_Low', 'Teacher_Quality_Medium', 'Peer_Influence_Negative', 'Peer_Influence_Neutral', 'Peer_Influence_Positive', 'Learning_Disabilities_No', 'Learning_Disabilities_Yes', 'Parental_Education_Level_College', 'Parental_Education_Level_High School', 'Parental_Education_Level_Postgraduate', 'Distance_from_Home_Far', 'Distance_from_Home_Moderate', 'Distance_from_Home_Near', 'Gender_Female', 'Gender_Male', 'PassFail']\n"
          ]
        }
      ],
      "source": [
        "print(df.columns.tolist())"
      ]
    },
    {
      "cell_type": "code",
      "execution_count": 249,
      "metadata": {
        "colab": {
          "base_uri": "https://localhost:8080/",
          "height": 1000
        },
        "id": "3R_YfGgQzY6q",
        "outputId": "22e3362a-b7b0-4506-beb3-c9483f826454"
      },
      "outputs": [
        {
          "output_type": "display_data",
          "data": {
            "text/plain": [
              "<Figure size 1200x600 with 1 Axes>"
            ],
            "image/png": "[encoded data removed]"
          },
          "metadata": {}
        },
        {
          "output_type": "display_data",
          "data": {
            "text/plain": [
              "<Figure size 800x600 with 1 Axes>"
            ],
            "image/png": "[encoded data removed]"
          },
          "metadata": {}
        }
      ],
      "source": [
        "# Plot the distribution of 'Exam_Score'\n",
        "plt.figure(figsize=(12, 6))\n",
        "sns.histplot(df['Exam_Score'], bins=20, kde=True, color='lightblue', alpha=0.7)\n",
        "plt.title('Distribution of Exam Scores', fontsize=16)\n",
        "plt.xlabel('Exam Score', fontsize=12)\n",
        "plt.ylabel('Frequency', fontsize=12)\n",
        "plt.grid(axis='y', linestyle='--', alpha=0.7)\n",
        "plt.show()\n",
        "\n",
        "# Plot the box plot for 'Exam_Score'\n",
        "plt.figure(figsize=(8, 6))\n",
        "sns.boxplot(x=df['Exam_Score'], color='lightblue')\n",
        "plt.title('Box Plot of Exam Scores', fontsize=16)\n",
        "plt.xlabel('Exam Score', fontsize=12)\n",
        "plt.show()"
      ]
    },
    {
      "cell_type": "code",
      "execution_count": 250,
      "metadata": {
        "id": "ieyqFC-i4vtl"
      },
      "outputs": [],
      "source": [
        "# Select Features and Target\n",
        "features = ['Hours_Studied', 'Attendance', 'Sleep_Hours', 'Previous_Scores', 'Tutoring_Sessions', 'Physical_Activity', 'Exam_Score', 'Parental_Involvement_High', 'Parental_Involvement_Low', 'Parental_Involvement_Medium', 'School_Type_Private', 'School_Type_Public', 'Access_to_Resources_High', 'Access_to_Resources_Low', 'Access_to_Resources_Medium', 'Extracurricular_Activities_No', 'Extracurricular_Activities_Yes', 'Motivation_Level_High', 'Motivation_Level_Low', 'Motivation_Level_Medium', 'Internet_Access_No', 'Internet_Access_Yes', 'Family_Income_High', 'Family_Income_Low', 'Family_Income_Medium', 'Teacher_Quality_High', 'Teacher_Quality_Low', 'Teacher_Quality_Medium', 'Peer_Influence_Negative', 'Peer_Influence_Neutral', 'Peer_Influence_Positive', 'Learning_Disabilities_No', 'Learning_Disabilities_Yes', 'Parental_Education_Level_College', 'Parental_Education_Level_High School', 'Parental_Education_Level_Postgraduate', 'Distance_from_Home_Far', 'Distance_from_Home_Moderate', 'Distance_from_Home_Near', 'Gender_Female', 'Gender_Male']\n",
        "\n",
        "X = df[features]\n",
        "y = df['PassFail']"
      ]
    },
    {
      "cell_type": "code",
      "execution_count": 251,
      "metadata": {
        "colab": {
          "base_uri": "https://localhost:8080/"
        },
        "id": "ZBGCwwa44vtl",
        "outputId": "27f6a07c-bc84-47b5-d621-92201f5cfbb7"
      },
      "outputs": [
        {
          "output_type": "stream",
          "name": "stdout",
          "text": [
            "X_train (5102, 41)\n",
            "X_test (1276, 41)\n",
            "y_train (5102,)\n",
            "y_test (1276,)\n"
          ]
        }
      ],
      "source": [
        "# Split the Dataset into Train and Test\n",
        "X_train, X_test, y_train, y_test = train_test_split(X, y, test_size=0.2, random_state=42)\n",
        "print('X_train',X_train.shape)\n",
        "print('X_test',X_test.shape)\n",
        "print('y_train',y_train.shape)\n",
        "print('y_test',y_test.shape)"
      ]
    },
    {
      "cell_type": "code",
      "execution_count": 252,
      "metadata": {
        "colab": {
          "base_uri": "https://localhost:8080/",
          "height": 1000
        },
        "id": "8wwf-aO-2AcX",
        "outputId": "e84dec3b-8974-442f-bf1d-9c12f0106fe1"
      },
      "outputs": [
        {
          "output_type": "display_data",
          "data": {
            "text/plain": [
              "<Figure size 800x600 with 1 Axes>"
            ],
            "image/png": "[encoded data removed]"
          },
          "metadata": {}
        },
        {
          "output_type": "stream",
          "name": "stdout",
          "text": [
            "The optimal number of neighbors (k) is: 6\n",
            "Test Accuracy with k=6: 99.22%\n"
          ]
        },
        {
          "output_type": "display_data",
          "data": {
            "text/plain": [
              "<Figure size 640x480 with 2 Axes>"
            ],
            "image/png": "[encoded data removed]"
          },
          "metadata": {}
        }
      ],
      "source": [
        "# Perform Cross-Validation\n",
        "k_range = range(1, 21)\n",
        "cv_scores = []\n",
        "\n",
        "# Evaluate cross-validation score for each k\n",
        "for k in k_range:\n",
        "    knn = KNeighborsClassifier(n_neighbors=k)\n",
        "    scores = cross_val_score(knn, X_train, y_train, cv=5, scoring='accuracy')\n",
        "    cv_scores.append(scores.mean())\n",
        "\n",
        "# Plot cross-validation results\n",
        "plt.figure(figsize=(8, 6))\n",
        "plt.plot(k_range, cv_scores, marker='o', linestyle='-', color='b')\n",
        "plt.title('Cross-Validation Accuracy vs. k')\n",
        "plt.xlabel('Number of Neighbors (k)')\n",
        "plt.ylabel('Accuracy')\n",
        "plt.grid(True)\n",
        "plt.show()\n",
        "\n",
        "# Select the best k\n",
        "best_k = k_range[cv_scores.index(max(cv_scores))]\n",
        "print(f\"The optimal number of neighbors (k) is: {best_k}\")\n",
        "\n",
        "# Train the final model with the best k\n",
        "knn_best = KNeighborsClassifier(n_neighbors=best_k)\n",
        "knn_best.fit(X_train, y_train)\n",
        "\n",
        "# Evaluate the model on the test set\n",
        "test_accuracy = knn_best.score(X_test, y_test)\n",
        "print(f\"Test Accuracy with k={best_k}: {test_accuracy * 100:.2f}%\")\n",
        "\n",
        "# Confusion Matrix\n",
        "y_pred = knn_best.predict(X_test)\n",
        "conf_matrix = confusion_matrix(y_test, y_pred)\n",
        "sns.heatmap(conf_matrix, annot=True, fmt='d', cmap='Blues', xticklabels=['Fail', 'Pass'], yticklabels=['Fail', 'Pass'])\n",
        "plt.title('Confusion Matrix')\n",
        "plt.xlabel('Predicted')\n",
        "plt.ylabel('Actual')\n",
        "plt.show()"
      ]
    },
    {
      "cell_type": "markdown",
      "source": [
        "# Key Feature Importance"
      ],
      "metadata": {
        "id": "ZVa_FjR-991P"
      }
    },
    {
      "cell_type": "code",
      "source": [
        "# Using Random Forest for Feature Importance\n",
        "importances = []\n",
        "rf = RandomForestClassifier(random_state=41)\n",
        "rf.fit(X_train, y_train)\n",
        "\n",
        "feature_importances = rf.feature_importances_\n",
        "\n",
        "# Create a DataFrame for better visualization\n",
        "importance_df = pd.DataFrame({\n",
        "    'Feature': features,\n",
        "    'Importance': feature_importances\n",
        "}).sort_values(by='Importance', ascending=False)\n",
        "\n",
        "# Display the top features\n",
        "top_features = importance_df.head(10)\n",
        "print(\"Top 10 Features Based on Importance:\\n\", top_features)\n",
        "\n",
        "# Plot feature importances\n",
        "plt.figure(figsize=(10, 6))\n",
        "sns.barplot(x='Importance', y='Feature', data=top_features, palette='viridis')\n",
        "plt.title('Top 10 Feature Importances')\n",
        "plt.xlabel('Importance')\n",
        "plt.ylabel('Feature')\n",
        "plt.tight_layout()\n",
        "plt.show()\n"
      ],
      "metadata": {
        "colab": {
          "base_uri": "https://localhost:8080/",
          "height": 912
        },
        "id": "1z0pZlE34wmp",
        "outputId": "11115773-4862-4fb6-ca16-6b288848d800"
      },
      "execution_count": 253,
      "outputs": [
        {
          "output_type": "stream",
          "name": "stdout",
          "text": [
            "Top 10 Features Based on Importance:\n",
            "                    Feature  Importance\n",
            "6               Exam_Score    0.608277\n",
            "0            Hours_Studied    0.088153\n",
            "1               Attendance    0.071080\n",
            "3          Previous_Scores    0.028886\n",
            "2              Sleep_Hours    0.015477\n",
            "4        Tutoring_Sessions    0.014884\n",
            "36  Distance_from_Home_Far    0.009395\n",
            "26     Teacher_Quality_Low    0.009361\n",
            "5        Physical_Activity    0.007713\n",
            "18    Motivation_Level_Low    0.007355\n"
          ]
        },
        {
          "output_type": "stream",
          "name": "stderr",
          "text": [
            "<ipython-input-253-f694ab0d8bfe>:20: FutureWarning: \n",
            "\n",
            "Passing `palette` without assigning `hue` is deprecated and will be removed in v0.14.0. Assign the `y` variable to `hue` and set `legend=False` for the same effect.\n",
            "\n",
            "  sns.barplot(x='Importance', y='Feature', data=top_features, palette='viridis')\n"
          ]
        },
        {
          "output_type": "display_data",
          "data": {
            "text/plain": [
              "<Figure size 1000x600 with 1 Axes>"
            ],
            "image/png": "[encoded data removed]"
          },
          "metadata": {}
        }
      ]
    },
    {
      "cell_type": "code",
      "source": [
        "# Retrain KNN Model with Top Features\n",
        "# Select the top 10 features for training\n",
        "selected_features = [\n",
        "    'Exam_Score', 'Attendance', 'Hours_Studied', 'Previous_Scores',\n",
        "    'Tutoring_Sessions', 'Access_to_Resources_High', 'Physical_Activity',\n",
        "    'Sleep_Hours', 'Parental_Involvement_High', 'Access_to_Resources_Low'\n",
        "]\n",
        "\n",
        "# Subset the dataset\n",
        "X_train_top = X_train[selected_features]\n",
        "X_test_top = X_test[selected_features]\n",
        "\n",
        "# Train KNN with the top 10 features\n",
        "knn_top_features = KNeighborsClassifier(n_neighbors=best_k)\n",
        "knn_top_features.fit(X_train_top, y_train)\n",
        "\n",
        "# Evaluate the model\n",
        "test_accuracy_top = knn_top_features.score(X_test_top, y_test)\n",
        "print(f\"Test Accuracy with Top 10 Features: {test_accuracy_top * 100:.2f}%\")\n",
        "\n",
        "# Confusion Matrix\n",
        "y_pred_top = knn_top_features.predict(X_test_top)\n",
        "conf_matrix_top = confusion_matrix(y_test, y_pred_top)\n",
        "\n",
        "sns.heatmap(conf_matrix_top, annot=True, fmt='d', cmap='Blues', xticklabels=['Fail', 'Pass'], yticklabels=['Fail', 'Pass'])\n",
        "plt.title('Confusion Matrix with Top 10 Features')\n",
        "plt.xlabel('Predicted')\n",
        "plt.ylabel('Actual')\n",
        "plt.show()\n",
        "\n",
        "# Classification Report\n",
        "print(\"Classification Report with Top 10 Features:\\n\", classification_report(y_test, y_pred_top))\n"
      ],
      "metadata": {
        "colab": {
          "base_uri": "https://localhost:8080/",
          "height": 669
        },
        "id": "Ij6-V7Nw5Q5H",
        "outputId": "6a7bb8c9-524b-4455-9d30-6c2a5ba3871f"
      },
      "execution_count": 254,
      "outputs": [
        {
          "output_type": "stream",
          "name": "stdout",
          "text": [
            "Test Accuracy with Top 10 Features: 99.22%\n"
          ]
        },
        {
          "output_type": "display_data",
          "data": {
            "text/plain": [
              "<Figure size 640x480 with 2 Axes>"
            ],
            "image/png": "[encoded data removed]"
          },
          "metadata": {}
        },
        {
          "output_type": "stream",
          "name": "stdout",
          "text": [
            "Classification Report with Top 10 Features:\n",
            "               precision    recall  f1-score   support\n",
            "\n",
            "           0       1.00      0.41      0.58        17\n",
            "           1       0.99      1.00      1.00      1259\n",
            "\n",
            "    accuracy                           0.99      1276\n",
            "   macro avg       1.00      0.71      0.79      1276\n",
            "weighted avg       0.99      0.99      0.99      1276\n",
            "\n"
          ]
        }
      ]
    },
    {
      "cell_type": "markdown",
      "source": [
        "# III(a). Multiclassification By KNN"
      ],
      "metadata": {
        "id": "kyBgzV4B-bip"
      }
    },
    {
      "cell_type": "code",
      "execution_count": 255,
      "metadata": {
        "id": "4HwMwBKw4R25",
        "colab": {
          "base_uri": "https://localhost:8080/"
        },
        "outputId": "03f9ce93-281a-45c5-be85-21efc5bba4c9"
      },
      "outputs": [
        {
          "output_type": "stream",
          "name": "stdout",
          "text": [
            "Grade distribution:\n",
            " GradeEncoded\n",
            "2    4731\n",
            "3    1533\n",
            "1      66\n",
            "4      26\n",
            "5      22\n",
            "Name: count, dtype: int64\n"
          ]
        }
      ],
      "source": [
        "# Task2: Transforming the dataset to make it multiclassification by KNN\n",
        "# Define grade labels\n",
        "bins = [0, 60, 70, 80, 90, 105]\n",
        "labels = ['F', 'D', 'C', 'B', 'A']\n",
        "\n",
        "df['Grade'] = pd.cut(df['Exam_Score'], bins=bins, labels=labels, right=False)\n",
        "\n",
        "# Label encoding\n",
        "grade_mapping = {'F': 1, 'D': 2, 'C': 3, 'B': 4, 'A': 5}\n",
        "df['GradeEncoded'] = df['Grade'].map(grade_mapping)\n",
        "\n",
        "# Check balance of the target variable\n",
        "grade_counts = df['GradeEncoded'].value_counts()\n",
        "print(\"Grade distribution:\\n\", grade_counts)"
      ]
    },
    {
      "cell_type": "markdown",
      "source": [
        "The grade distribution is highly imbalanced, with the majority of the samples in GradeEncoded 2 (D) and 3 (C), while Grades 1 (F), 4 (B), and 5 (A) are significantly underrepresented. Imbalanced datasets can lead to biased models, where the classifier is skewed toward the majority classes.\n",
        "\n",
        "To address this, we need to SMOTE (Synthetic Minority Oversampling Technique) generates synthetic samples for the minority classes."
      ],
      "metadata": {
        "id": "mx7IQsUg63qh"
      }
    },
    {
      "cell_type": "code",
      "source": [
        "# Apply SMOTE to balance the training data\n",
        "# Over-sample all minority classes\n",
        "smote = SMOTE(sampling_strategy='all', random_state=42)\n",
        "X_train_balanced, y_train_balanced = smote.fit_resample(X_train_multi, y_train_multi)\n",
        "\n",
        "# Check the balance after resampling\n",
        "balanced_counts = pd.Series(y_train_balanced).value_counts()\n",
        "print(\"Balanced Grade distribution:\\n\", balanced_counts)"
      ],
      "metadata": {
        "colab": {
          "base_uri": "https://localhost:8080/"
        },
        "id": "qCDEFJNY7Gwh",
        "outputId": "dcf76373-0316-4400-df52-449049f72a98"
      },
      "execution_count": 256,
      "outputs": [
        {
          "output_type": "stream",
          "name": "stdout",
          "text": [
            "Balanced Grade distribution:\n",
            " GradeEncoded\n",
            "1    3784\n",
            "2    3784\n",
            "3    3784\n",
            "4    3784\n",
            "5    3784\n",
            "Name: count, dtype: int64\n"
          ]
        }
      ]
    },
    {
      "cell_type": "code",
      "source": [
        "# Select the top features based on importance\n",
        "\n",
        "X_train, X_test, y_train, y_test = train_test_split(X_selected, df['GradeEncoded'], test_size=0.2, random_state=41, stratify=df['GradeEncoded'])\n",
        "\n",
        "# Train the KNN model\n",
        "best_k_balanced = 5\n",
        "knn_balanced = KNeighborsClassifier(n_neighbors=best_k_balanced)\n",
        "knn_balanced.fit(X_train_res, y_train_res)\n",
        "\n",
        "# Evaluate the model on the test set\n",
        "test_accuracy_balanced = knn_balanced.score(X_test, y_test)\n",
        "print(f\"Test Accuracy with k={best_k_balanced}: {test_accuracy_balanced * 100:.2f}%\")\n",
        "\n",
        "# Predictions and evaluation\n",
        "y_pred_balanced = knn_balanced.predict(X_test)\n",
        "print(\"Classification Report:\\n\", classification_report(y_test, y_pred_balanced))\n",
        "\n",
        "# Confusion Matrix\n",
        "conf_matrix_balanced = confusion_matrix(y_test, y_pred_balanced)\n",
        "sns.heatmap(conf_matrix_balanced, annot=True, fmt='d', cmap='Blues',\n",
        "            xticklabels=['F', 'D', 'C', 'B', 'A'],\n",
        "            yticklabels=['F', 'D', 'C', 'B', 'A'])\n",
        "plt.title('Confusion Matrix (k=5)')\n",
        "plt.xlabel('Predicted')\n",
        "plt.ylabel('Actual')\n",
        "plt.show()"
      ],
      "metadata": {
        "colab": {
          "base_uri": "https://localhost:8080/",
          "height": 723
        },
        "id": "JHjx8UZR37KQ",
        "outputId": "5a6b64b2-15c6-406b-8e52-0a8282ef742d"
      },
      "execution_count": 257,
      "outputs": [
        {
          "output_type": "stream",
          "name": "stdout",
          "text": [
            "Test Accuracy with k=5: 92.79%\n",
            "Classification Report:\n",
            "               precision    recall  f1-score   support\n",
            "\n",
            "           1       0.44      0.92      0.60        13\n",
            "           2       0.99      0.91      0.95       947\n",
            "           3       0.82      0.97      0.89       307\n",
            "           4       0.83      1.00      0.91         5\n",
            "           5       1.00      1.00      1.00         4\n",
            "\n",
            "    accuracy                           0.93      1276\n",
            "   macro avg       0.82      0.96      0.87      1276\n",
            "weighted avg       0.94      0.93      0.93      1276\n",
            "\n"
          ]
        },
        {
          "output_type": "display_data",
          "data": {
            "text/plain": [
              "<Figure size 640x480 with 2 Axes>"
            ],
            "image/png": "[encoded data removed]"
          },
          "metadata": {}
        }
      ]
    },
    {
      "cell_type": "markdown",
      "source": [
        "# III(b). Multiclassification By Random Forests"
      ],
      "metadata": {
        "id": "fyTzkm2VGPsO"
      }
    },
    {
      "cell_type": "code",
      "source": [
        "# Apply Random Forests\n",
        "rf_model = RandomForestClassifier(class_weight='balanced',random_state=41)\n",
        "rf_model.fit(X_train, y_train)\n",
        "\n",
        "# Evaluate the model on the test set\n",
        "y_pred_rf = rf_model.predict(X_test)\n",
        "test_accuracy_rf = rf_model.score(X_test, y_test)\n",
        "print(f\"Random Forest Test Accuracy: {test_accuracy_rf * 100:.2f}%\")\n",
        "\n",
        "# Confusion Matrix for Random Forest\n",
        "conf_matrix_rf = confusion_matrix(y_test, y_pred_rf)\n",
        "plt.figure(figsize=(8, 6))\n",
        "sns.heatmap(conf_matrix_rf, annot=True, fmt='d', cmap='Blues', xticklabels=labels, yticklabels=labels)\n",
        "plt.title('Random Forest Confusion Matrix')\n",
        "plt.xlabel('Predicted')\n",
        "plt.ylabel('Actual')\n",
        "plt.show()"
      ],
      "metadata": {
        "colab": {
          "base_uri": "https://localhost:8080/",
          "height": 582
        },
        "id": "VG-tipgKDtKu",
        "outputId": "091554d3-35df-46cb-88d1-f7d168239a63"
      },
      "execution_count": 258,
      "outputs": [
        {
          "output_type": "stream",
          "name": "stdout",
          "text": [
            "Random Forest Test Accuracy: 99.76%\n"
          ]
        },
        {
          "output_type": "display_data",
          "data": {
            "text/plain": [
              "<Figure size 800x600 with 2 Axes>"
            ],
            "image/png": "[encoded data removed]"
          },
          "metadata": {}
        }
      ]
    },
    {
      "cell_type": "markdown",
      "source": [
        "# IV. Stochastic Gradient Descent Regression"
      ],
      "metadata": {
        "id": "-U7lIZRzLI2T"
      }
    },
    {
      "cell_type": "markdown",
      "source": [
        "Stochastic Gradient Descent (SGD) is an optimization algorithm used to minimize the loss function of models like Linear Regression and Classification models.\n",
        "\n",
        "L2 Regularization helps prevent overfitting by penalizing large coefficients. This means the model won't \"memorize\" the training data and instead will generalize better to unseen data."
      ],
      "metadata": {
        "id": "oZeHDCaKLinm"
      }
    },
    {
      "cell_type": "code",
      "source": [
        "# Stochastic Gradient Descent Regression\n",
        "\n",
        "# Use the selected features and target\n",
        "X = df[selected_features]\n",
        "y = df['Exam_Score']\n",
        "\n",
        "# Split Dataset\n",
        "X_train, X_test, y_train, y_test = train_test_split(X, y, test_size=0.2, random_state=41)\n",
        "\n",
        "# Standardize Features\n",
        "scaler = StandardScaler()\n",
        "X_train_scaled = scaler.fit_transform(X_train)\n",
        "X_test_scaled = scaler.transform(X_test)\n",
        "\n",
        "# Initialize and Train SGD Regressor Model with Regularization (L2)\n",
        "sgd_regressor = SGDRegressor(max_iter=1000, tol=1e-3, random_state=41, alpha=0.1)\n",
        "sgd_regressor.fit(X_train_scaled, y_train)\n",
        "\n",
        "# Predictions\n",
        "y_pred = sgd_regressor.predict(X_test_scaled)\n",
        "\n",
        "# Evaluation\n",
        "mse = mean_squared_error(y_test, y_pred)\n",
        "r2 = r2_score(y_test, y_pred)\n",
        "\n",
        "print(\"SGD Regression Performances:\")\n",
        "print(f\"Mean Squared Error (MSE): {mse:.2f}\")\n",
        "print(f\"R2 Score: {r2:.2f}\")\n",
        "\n",
        "# Plotting True vs Predicted\n",
        "plt.scatter(y_test, y_pred)\n",
        "plt.xlabel('True Values')\n",
        "plt.ylabel('Predictions')\n",
        "plt.title('True vs Predicted Values (SGD)')\n",
        "plt.show()\n"
      ],
      "metadata": {
        "colab": {
          "base_uri": "https://localhost:8080/",
          "height": 526
        },
        "id": "I9HCdKR8AEAC",
        "outputId": "e8f7d311-3f5c-4f39-eeae-397e99fb6ba9"
      },
      "execution_count": 261,
      "outputs": [
        {
          "output_type": "stream",
          "name": "stdout",
          "text": [
            "SGD Regression Performances:\n",
            "Mean Squared Error (MSE): 0.20\n",
            "R2 Score: 0.99\n"
          ]
        },
        {
          "output_type": "display_data",
          "data": {
            "text/plain": [
              "<Figure size 640x480 with 1 Axes>"
            ],
            "image/png": "[encoded data removed]"
          },
          "metadata": {}
        }
      ]
    },
    {
      "cell_type": "markdown",
      "source": [
        "# V. Prediction by MLP Classifier"
      ],
      "metadata": {
        "id": "lQWzEgzUMaU9"
      }
    },
    {
      "cell_type": "code",
      "source": [
        "X = df[selected_features]\n",
        "y = df['GradeEncoded']\n",
        "\n",
        "# Split Dataset\n",
        "X_train, X_test, y_train, y_test = train_test_split(X, y, test_size=0.2, random_state=42)\n",
        "\n",
        "# Define the parameter grid for GridSearchCV\n",
        "param_grid = {\n",
        "    'hidden_layer_sizes': [(100,), (50, 50)],\n",
        "    'activation': ['relu'],\n",
        "    'solver': ['adam'],\n",
        "    'alpha': [0.0001, 0.001],\n",
        "    'max_iter': [1000],\n",
        "    'early_stopping': [True, False]\n",
        "}\n",
        "\n",
        "# Initialize the MLPClassifier\n",
        "mlp = MLPClassifier(random_state=42)\n",
        "\n",
        "# Perform GridSearchCV with 5-fold cross-validation\n",
        "grid_search = GridSearchCV(mlp, param_grid, cv=5, scoring='accuracy', n_jobs=-1, verbose=1)\n",
        "\n",
        "# Fit the model with the training data\n",
        "grid_search.fit(X_train, y_train)\n",
        "\n",
        "# Best parameters and score\n",
        "print(f\"Best parameters found: {grid_search.best_params_}\")"
      ],
      "metadata": {
        "colab": {
          "base_uri": "https://localhost:8080/"
        },
        "id": "UW0YJWZ2O3mC",
        "outputId": "b4bc01ad-3fd4-4441-aafd-9b7e4c8bb471"
      },
      "execution_count": 267,
      "outputs": [
        {
          "output_type": "stream",
          "name": "stdout",
          "text": [
            "Fitting 5 folds for each of 8 candidates, totalling 40 fits\n",
            "Best parameters found: {'activation': 'relu', 'alpha': 0.001, 'early_stopping': True, 'hidden_layer_sizes': (50, 50), 'max_iter': 1000, 'solver': 'adam'}\n",
            "Best cross-validation accuracy: 0.8471\n"
          ]
        }
      ]
    },
    {
      "cell_type": "code",
      "source": [
        "\n",
        "# Apply the parameter to MPLClassifier\n",
        "mlp_classifier = MLPClassifier(\n",
        "    hidden_layer_sizes=(50, 50),\n",
        "    activation='relu',\n",
        "    alpha=0.001,\n",
        "    early_stopping=True,\n",
        "    max_iter=1000,\n",
        "    solver='adam',\n",
        "    random_state=42\n",
        ")\n",
        "mlp_classifier.fit(X_train, y_train)\n",
        "\n",
        "y_pred_probs = mlp_classifier.predict_proba(X_test)\n",
        "y_pred = mlp_classifier.predict(X_test)\n",
        "\n",
        "# Initialize a counter for correct second-best predictions\n",
        "correct_second_best = 0\n",
        "total_samples = len(y_test)\n",
        "\n",
        "# Loop through the test samples and check second-best predictions\n",
        "for i in range(total_samples):\n",
        "    top_2_preds = np.argsort(y_pred_probs[i])[::-1][:2]\n",
        "    if top_2_preds[1] == y_test.iloc[i]:\n",
        "        correct_second_best += 1\n",
        "\n",
        "# Calculate the ratio of correct second-best predictions\n",
        "second_best_ratio = correct_second_best / total_samples\n",
        "print(f\"Ratio of second-best predictions that are correct: {second_best_ratio:.4f}\")\n"
      ],
      "metadata": {
        "colab": {
          "base_uri": "https://localhost:8080/"
        },
        "id": "LHjPKJOHL31e",
        "outputId": "ea828e6e-ce38-455f-d6a3-208dda18ca97"
      },
      "execution_count": 268,
      "outputs": [
        {
          "output_type": "stream",
          "name": "stdout",
          "text": [
            "Ratio of second-best predictions that are correct: 0.5180\n"
          ]
        }
      ]
    }
  ],
  "metadata": {
    "colab": {
      "provenance": []
    },
    "kernelspec": {
      "display_name": "Python 3 (ipykernel)",
      "language": "python",
      "name": "python3"
    },
    "language_info": {
      "codemirror_mode": {
        "name": "ipython",
        "version": 3
      },
      "file_extension": ".py",
      "mimetype": "text/x-python",
      "name": "python",
      "nbconvert_exporter": "python",
      "pygments_lexer": "ipython3",
      "version": "3.12.7"
    }
  },
  "nbformat": 4,
  "nbformat_minor": 0
}